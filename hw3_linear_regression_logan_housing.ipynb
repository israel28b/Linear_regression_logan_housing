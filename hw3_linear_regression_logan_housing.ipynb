{
  "nbformat": 4,
  "nbformat_minor": 0,
  "metadata": {
    "colab": {
      "provenance": []
    },
    "kernelspec": {
      "name": "python3",
      "display_name": "Python 3"
    },
    "language_info": {
      "name": "python"
    }
  },
  "cells": [
    {
      "cell_type": "code",
      "execution_count": 1,
      "metadata": {
        "id": "prlf9zAESmiO"
      },
      "outputs": [],
      "source": [
        "import pandas as pd\n",
        "import numpy as np\n",
        "import matplotlib.pyplot as plt\n",
        "import seaborn as sns\n",
        "import warnings\n",
        "import statsmodels.formula.api as smf # (For econometrics approach we use statsmodels package)\n",
        "\n",
        "sns.set()  #if you want to use seaborn themes with matplotlib functions\n",
        "\n",
        "warnings.filterwarnings('ignore')"
      ]
    },
    {
      "cell_type": "code",
      "source": [
        "#1\n",
        "df = pd.read_csv('/content/Logan_housing.csv')\n",
        "\n",
        "df.head()"
      ],
      "metadata": {
        "colab": {
          "base_uri": "https://localhost:8080/",
          "height": 258
        },
        "id": "xEWsC4FcTQi_",
        "outputId": "484cb187-5e2a-4de6-d8b9-ae36512191ae"
      },
      "execution_count": 2,
      "outputs": [
        {
          "output_type": "execute_result",
          "data": {
            "text/plain": [
              "   Sold Price  DOM  Garage Capacity  HOA Fee Irregular Shape Quadrant  \\\n",
              "0      176000    5                2        0              No       NW   \n",
              "1      225000    6                2        0              No       NW   \n",
              "2      274900   14                2        0              No       NW   \n",
              "3      175000   16                1        0              No       NW   \n",
              "4      179000   29                0        0              No       NW   \n",
              "\n",
              "  School District              Sold Terms  Total Bedrooms  Total Bathrooms  \\\n",
              "0           Cache                     FHA               3                1   \n",
              "1           Cache            Conventional               4                2   \n",
              "2           Cache            Conventional               3                1   \n",
              "3           Cache  USDA Rural Development               4                1   \n",
              "4           Cache                    Cash               4                2   \n",
              "\n",
              "   Total Square Feet  Year Built    Zip  year_sold  month_sold  \\\n",
              "0               1031        1974  84335       2018           9   \n",
              "1               2091        1995  84335       2018           7   \n",
              "2               2016        1980  84335       2018          11   \n",
              "3               1920        1978  84335       2018           6   \n",
              "4               1329        1976  84335       2018           9   \n",
              "\n",
              "   built_after_2000  \n",
              "0                 0  \n",
              "1                 0  \n",
              "2                 0  \n",
              "3                 0  \n",
              "4                 0  "
            ],
            "text/html": [
              "\n",
              "  <div id=\"df-2ac88677-5bd8-4615-afbf-14f7b964d57c\" class=\"colab-df-container\">\n",
              "    <div>\n",
              "<style scoped>\n",
              "    .dataframe tbody tr th:only-of-type {\n",
              "        vertical-align: middle;\n",
              "    }\n",
              "\n",
              "    .dataframe tbody tr th {\n",
              "        vertical-align: top;\n",
              "    }\n",
              "\n",
              "    .dataframe thead th {\n",
              "        text-align: right;\n",
              "    }\n",
              "</style>\n",
              "<table border=\"1\" class=\"dataframe\">\n",
              "  <thead>\n",
              "    <tr style=\"text-align: right;\">\n",
              "      <th></th>\n",
              "      <th>Sold Price</th>\n",
              "      <th>DOM</th>\n",
              "      <th>Garage Capacity</th>\n",
              "      <th>HOA Fee</th>\n",
              "      <th>Irregular Shape</th>\n",
              "      <th>Quadrant</th>\n",
              "      <th>School District</th>\n",
              "      <th>Sold Terms</th>\n",
              "      <th>Total Bedrooms</th>\n",
              "      <th>Total Bathrooms</th>\n",
              "      <th>Total Square Feet</th>\n",
              "      <th>Year Built</th>\n",
              "      <th>Zip</th>\n",
              "      <th>year_sold</th>\n",
              "      <th>month_sold</th>\n",
              "      <th>built_after_2000</th>\n",
              "    </tr>\n",
              "  </thead>\n",
              "  <tbody>\n",
              "    <tr>\n",
              "      <th>0</th>\n",
              "      <td>176000</td>\n",
              "      <td>5</td>\n",
              "      <td>2</td>\n",
              "      <td>0</td>\n",
              "      <td>No</td>\n",
              "      <td>NW</td>\n",
              "      <td>Cache</td>\n",
              "      <td>FHA</td>\n",
              "      <td>3</td>\n",
              "      <td>1</td>\n",
              "      <td>1031</td>\n",
              "      <td>1974</td>\n",
              "      <td>84335</td>\n",
              "      <td>2018</td>\n",
              "      <td>9</td>\n",
              "      <td>0</td>\n",
              "    </tr>\n",
              "    <tr>\n",
              "      <th>1</th>\n",
              "      <td>225000</td>\n",
              "      <td>6</td>\n",
              "      <td>2</td>\n",
              "      <td>0</td>\n",
              "      <td>No</td>\n",
              "      <td>NW</td>\n",
              "      <td>Cache</td>\n",
              "      <td>Conventional</td>\n",
              "      <td>4</td>\n",
              "      <td>2</td>\n",
              "      <td>2091</td>\n",
              "      <td>1995</td>\n",
              "      <td>84335</td>\n",
              "      <td>2018</td>\n",
              "      <td>7</td>\n",
              "      <td>0</td>\n",
              "    </tr>\n",
              "    <tr>\n",
              "      <th>2</th>\n",
              "      <td>274900</td>\n",
              "      <td>14</td>\n",
              "      <td>2</td>\n",
              "      <td>0</td>\n",
              "      <td>No</td>\n",
              "      <td>NW</td>\n",
              "      <td>Cache</td>\n",
              "      <td>Conventional</td>\n",
              "      <td>3</td>\n",
              "      <td>1</td>\n",
              "      <td>2016</td>\n",
              "      <td>1980</td>\n",
              "      <td>84335</td>\n",
              "      <td>2018</td>\n",
              "      <td>11</td>\n",
              "      <td>0</td>\n",
              "    </tr>\n",
              "    <tr>\n",
              "      <th>3</th>\n",
              "      <td>175000</td>\n",
              "      <td>16</td>\n",
              "      <td>1</td>\n",
              "      <td>0</td>\n",
              "      <td>No</td>\n",
              "      <td>NW</td>\n",
              "      <td>Cache</td>\n",
              "      <td>USDA Rural Development</td>\n",
              "      <td>4</td>\n",
              "      <td>1</td>\n",
              "      <td>1920</td>\n",
              "      <td>1978</td>\n",
              "      <td>84335</td>\n",
              "      <td>2018</td>\n",
              "      <td>6</td>\n",
              "      <td>0</td>\n",
              "    </tr>\n",
              "    <tr>\n",
              "      <th>4</th>\n",
              "      <td>179000</td>\n",
              "      <td>29</td>\n",
              "      <td>0</td>\n",
              "      <td>0</td>\n",
              "      <td>No</td>\n",
              "      <td>NW</td>\n",
              "      <td>Cache</td>\n",
              "      <td>Cash</td>\n",
              "      <td>4</td>\n",
              "      <td>2</td>\n",
              "      <td>1329</td>\n",
              "      <td>1976</td>\n",
              "      <td>84335</td>\n",
              "      <td>2018</td>\n",
              "      <td>9</td>\n",
              "      <td>0</td>\n",
              "    </tr>\n",
              "  </tbody>\n",
              "</table>\n",
              "</div>\n",
              "    <div class=\"colab-df-buttons\">\n",
              "\n",
              "  <div class=\"colab-df-container\">\n",
              "    <button class=\"colab-df-convert\" onclick=\"convertToInteractive('df-2ac88677-5bd8-4615-afbf-14f7b964d57c')\"\n",
              "            title=\"Convert this dataframe to an interactive table.\"\n",
              "            style=\"display:none;\">\n",
              "\n",
              "  <svg xmlns=\"http://www.w3.org/2000/svg\" height=\"24px\" viewBox=\"0 -960 960 960\">\n",
              "    <path d=\"M120-120v-720h720v720H120Zm60-500h600v-160H180v160Zm220 220h160v-160H400v160Zm0 220h160v-160H400v160ZM180-400h160v-160H180v160Zm440 0h160v-160H620v160ZM180-180h160v-160H180v160Zm440 0h160v-160H620v160Z\"/>\n",
              "  </svg>\n",
              "    </button>\n",
              "\n",
              "  <style>\n",
              "    .colab-df-container {\n",
              "      display:flex;\n",
              "      gap: 12px;\n",
              "    }\n",
              "\n",
              "    .colab-df-convert {\n",
              "      background-color: #E8F0FE;\n",
              "      border: none;\n",
              "      border-radius: 50%;\n",
              "      cursor: pointer;\n",
              "      display: none;\n",
              "      fill: #1967D2;\n",
              "      height: 32px;\n",
              "      padding: 0 0 0 0;\n",
              "      width: 32px;\n",
              "    }\n",
              "\n",
              "    .colab-df-convert:hover {\n",
              "      background-color: #E2EBFA;\n",
              "      box-shadow: 0px 1px 2px rgba(60, 64, 67, 0.3), 0px 1px 3px 1px rgba(60, 64, 67, 0.15);\n",
              "      fill: #174EA6;\n",
              "    }\n",
              "\n",
              "    .colab-df-buttons div {\n",
              "      margin-bottom: 4px;\n",
              "    }\n",
              "\n",
              "    [theme=dark] .colab-df-convert {\n",
              "      background-color: #3B4455;\n",
              "      fill: #D2E3FC;\n",
              "    }\n",
              "\n",
              "    [theme=dark] .colab-df-convert:hover {\n",
              "      background-color: #434B5C;\n",
              "      box-shadow: 0px 1px 3px 1px rgba(0, 0, 0, 0.15);\n",
              "      filter: drop-shadow(0px 1px 2px rgba(0, 0, 0, 0.3));\n",
              "      fill: #FFFFFF;\n",
              "    }\n",
              "  </style>\n",
              "\n",
              "    <script>\n",
              "      const buttonEl =\n",
              "        document.querySelector('#df-2ac88677-5bd8-4615-afbf-14f7b964d57c button.colab-df-convert');\n",
              "      buttonEl.style.display =\n",
              "        google.colab.kernel.accessAllowed ? 'block' : 'none';\n",
              "\n",
              "      async function convertToInteractive(key) {\n",
              "        const element = document.querySelector('#df-2ac88677-5bd8-4615-afbf-14f7b964d57c');\n",
              "        const dataTable =\n",
              "          await google.colab.kernel.invokeFunction('convertToInteractive',\n",
              "                                                    [key], {});\n",
              "        if (!dataTable) return;\n",
              "\n",
              "        const docLinkHtml = 'Like what you see? Visit the ' +\n",
              "          '<a target=\"_blank\" href=https://colab.research.google.com/notebooks/data_table.ipynb>data table notebook</a>'\n",
              "          + ' to learn more about interactive tables.';\n",
              "        element.innerHTML = '';\n",
              "        dataTable['output_type'] = 'display_data';\n",
              "        await google.colab.output.renderOutput(dataTable, element);\n",
              "        const docLink = document.createElement('div');\n",
              "        docLink.innerHTML = docLinkHtml;\n",
              "        element.appendChild(docLink);\n",
              "      }\n",
              "    </script>\n",
              "  </div>\n",
              "\n",
              "\n",
              "<div id=\"df-023d31bc-e51f-48ca-bc86-f553d4d461b1\">\n",
              "  <button class=\"colab-df-quickchart\" onclick=\"quickchart('df-023d31bc-e51f-48ca-bc86-f553d4d461b1')\"\n",
              "            title=\"Suggest charts\"\n",
              "            style=\"display:none;\">\n",
              "\n",
              "<svg xmlns=\"http://www.w3.org/2000/svg\" height=\"24px\"viewBox=\"0 0 24 24\"\n",
              "     width=\"24px\">\n",
              "    <g>\n",
              "        <path d=\"M19 3H5c-1.1 0-2 .9-2 2v14c0 1.1.9 2 2 2h14c1.1 0 2-.9 2-2V5c0-1.1-.9-2-2-2zM9 17H7v-7h2v7zm4 0h-2V7h2v10zm4 0h-2v-4h2v4z\"/>\n",
              "    </g>\n",
              "</svg>\n",
              "  </button>\n",
              "\n",
              "<style>\n",
              "  .colab-df-quickchart {\n",
              "      --bg-color: #E8F0FE;\n",
              "      --fill-color: #1967D2;\n",
              "      --hover-bg-color: #E2EBFA;\n",
              "      --hover-fill-color: #174EA6;\n",
              "      --disabled-fill-color: #AAA;\n",
              "      --disabled-bg-color: #DDD;\n",
              "  }\n",
              "\n",
              "  [theme=dark] .colab-df-quickchart {\n",
              "      --bg-color: #3B4455;\n",
              "      --fill-color: #D2E3FC;\n",
              "      --hover-bg-color: #434B5C;\n",
              "      --hover-fill-color: #FFFFFF;\n",
              "      --disabled-bg-color: #3B4455;\n",
              "      --disabled-fill-color: #666;\n",
              "  }\n",
              "\n",
              "  .colab-df-quickchart {\n",
              "    background-color: var(--bg-color);\n",
              "    border: none;\n",
              "    border-radius: 50%;\n",
              "    cursor: pointer;\n",
              "    display: none;\n",
              "    fill: var(--fill-color);\n",
              "    height: 32px;\n",
              "    padding: 0;\n",
              "    width: 32px;\n",
              "  }\n",
              "\n",
              "  .colab-df-quickchart:hover {\n",
              "    background-color: var(--hover-bg-color);\n",
              "    box-shadow: 0 1px 2px rgba(60, 64, 67, 0.3), 0 1px 3px 1px rgba(60, 64, 67, 0.15);\n",
              "    fill: var(--button-hover-fill-color);\n",
              "  }\n",
              "\n",
              "  .colab-df-quickchart-complete:disabled,\n",
              "  .colab-df-quickchart-complete:disabled:hover {\n",
              "    background-color: var(--disabled-bg-color);\n",
              "    fill: var(--disabled-fill-color);\n",
              "    box-shadow: none;\n",
              "  }\n",
              "\n",
              "  .colab-df-spinner {\n",
              "    border: 2px solid var(--fill-color);\n",
              "    border-color: transparent;\n",
              "    border-bottom-color: var(--fill-color);\n",
              "    animation:\n",
              "      spin 1s steps(1) infinite;\n",
              "  }\n",
              "\n",
              "  @keyframes spin {\n",
              "    0% {\n",
              "      border-color: transparent;\n",
              "      border-bottom-color: var(--fill-color);\n",
              "      border-left-color: var(--fill-color);\n",
              "    }\n",
              "    20% {\n",
              "      border-color: transparent;\n",
              "      border-left-color: var(--fill-color);\n",
              "      border-top-color: var(--fill-color);\n",
              "    }\n",
              "    30% {\n",
              "      border-color: transparent;\n",
              "      border-left-color: var(--fill-color);\n",
              "      border-top-color: var(--fill-color);\n",
              "      border-right-color: var(--fill-color);\n",
              "    }\n",
              "    40% {\n",
              "      border-color: transparent;\n",
              "      border-right-color: var(--fill-color);\n",
              "      border-top-color: var(--fill-color);\n",
              "    }\n",
              "    60% {\n",
              "      border-color: transparent;\n",
              "      border-right-color: var(--fill-color);\n",
              "    }\n",
              "    80% {\n",
              "      border-color: transparent;\n",
              "      border-right-color: var(--fill-color);\n",
              "      border-bottom-color: var(--fill-color);\n",
              "    }\n",
              "    90% {\n",
              "      border-color: transparent;\n",
              "      border-bottom-color: var(--fill-color);\n",
              "    }\n",
              "  }\n",
              "</style>\n",
              "\n",
              "  <script>\n",
              "    async function quickchart(key) {\n",
              "      const quickchartButtonEl =\n",
              "        document.querySelector('#' + key + ' button');\n",
              "      quickchartButtonEl.disabled = true;  // To prevent multiple clicks.\n",
              "      quickchartButtonEl.classList.add('colab-df-spinner');\n",
              "      try {\n",
              "        const charts = await google.colab.kernel.invokeFunction(\n",
              "            'suggestCharts', [key], {});\n",
              "      } catch (error) {\n",
              "        console.error('Error during call to suggestCharts:', error);\n",
              "      }\n",
              "      quickchartButtonEl.classList.remove('colab-df-spinner');\n",
              "      quickchartButtonEl.classList.add('colab-df-quickchart-complete');\n",
              "    }\n",
              "    (() => {\n",
              "      let quickchartButtonEl =\n",
              "        document.querySelector('#df-023d31bc-e51f-48ca-bc86-f553d4d461b1 button');\n",
              "      quickchartButtonEl.style.display =\n",
              "        google.colab.kernel.accessAllowed ? 'block' : 'none';\n",
              "    })();\n",
              "  </script>\n",
              "</div>\n",
              "\n",
              "    </div>\n",
              "  </div>\n"
            ],
            "application/vnd.google.colaboratory.intrinsic+json": {
              "type": "dataframe",
              "variable_name": "df",
              "summary": "{\n  \"name\": \"df\",\n  \"rows\": 4110,\n  \"fields\": [\n    {\n      \"column\": \"Sold Price\",\n      \"properties\": {\n        \"dtype\": \"number\",\n        \"std\": 117864,\n        \"min\": 13000,\n        \"max\": 1900000,\n        \"num_unique_values\": 1217,\n        \"samples\": [\n          134900,\n          340900,\n          235000\n        ],\n        \"semantic_type\": \"\",\n        \"description\": \"\"\n      }\n    },\n    {\n      \"column\": \"DOM\",\n      \"properties\": {\n        \"dtype\": \"number\",\n        \"std\": 51,\n        \"min\": 1,\n        \"max\": 712,\n        \"num_unique_values\": 248,\n        \"samples\": [\n          40,\n          463,\n          212\n        ],\n        \"semantic_type\": \"\",\n        \"description\": \"\"\n      }\n    },\n    {\n      \"column\": \"Garage Capacity\",\n      \"properties\": {\n        \"dtype\": \"number\",\n        \"std\": 1,\n        \"min\": 0,\n        \"max\": 20,\n        \"num_unique_values\": 14,\n        \"samples\": [\n          20,\n          12,\n          2\n        ],\n        \"semantic_type\": \"\",\n        \"description\": \"\"\n      }\n    },\n    {\n      \"column\": \"HOA Fee\",\n      \"properties\": {\n        \"dtype\": \"number\",\n        \"std\": 69,\n        \"min\": 0,\n        \"max\": 1050,\n        \"num_unique_values\": 96,\n        \"samples\": [\n          188,\n          210,\n          240\n        ],\n        \"semantic_type\": \"\",\n        \"description\": \"\"\n      }\n    },\n    {\n      \"column\": \"Irregular Shape\",\n      \"properties\": {\n        \"dtype\": \"category\",\n        \"num_unique_values\": 2,\n        \"samples\": [\n          \"Yes\",\n          \"No\"\n        ],\n        \"semantic_type\": \"\",\n        \"description\": \"\"\n      }\n    },\n    {\n      \"column\": \"Quadrant\",\n      \"properties\": {\n        \"dtype\": \"category\",\n        \"num_unique_values\": 4,\n        \"samples\": [\n          \"SE\",\n          \"SW\"\n        ],\n        \"semantic_type\": \"\",\n        \"description\": \"\"\n      }\n    },\n    {\n      \"column\": \"School District\",\n      \"properties\": {\n        \"dtype\": \"category\",\n        \"num_unique_values\": 2,\n        \"samples\": [\n          \"Logan\",\n          \"Cache\"\n        ],\n        \"semantic_type\": \"\",\n        \"description\": \"\"\n      }\n    },\n    {\n      \"column\": \"Sold Terms\",\n      \"properties\": {\n        \"dtype\": \"category\",\n        \"num_unique_values\": 6,\n        \"samples\": [\n          \"FHA\",\n          \"Conventional\"\n        ],\n        \"semantic_type\": \"\",\n        \"description\": \"\"\n      }\n    },\n    {\n      \"column\": \"Total Bedrooms\",\n      \"properties\": {\n        \"dtype\": \"number\",\n        \"std\": 1,\n        \"min\": 1,\n        \"max\": 9,\n        \"num_unique_values\": 9,\n        \"samples\": [\n          8,\n          4\n        ],\n        \"semantic_type\": \"\",\n        \"description\": \"\"\n      }\n    },\n    {\n      \"column\": \"Total Bathrooms\",\n      \"properties\": {\n        \"dtype\": \"number\",\n        \"std\": 0,\n        \"min\": 1,\n        \"max\": 7,\n        \"num_unique_values\": 7,\n        \"samples\": [\n          1,\n          2\n        ],\n        \"semantic_type\": \"\",\n        \"description\": \"\"\n      }\n    },\n    {\n      \"column\": \"Total Square Feet\",\n      \"properties\": {\n        \"dtype\": \"number\",\n        \"std\": 1049,\n        \"min\": 520,\n        \"max\": 10890,\n        \"num_unique_values\": 2009,\n        \"samples\": [\n          1069,\n          2364\n        ],\n        \"semantic_type\": \"\",\n        \"description\": \"\"\n      }\n    },\n    {\n      \"column\": \"Year Built\",\n      \"properties\": {\n        \"dtype\": \"number\",\n        \"std\": 31,\n        \"min\": 1879,\n        \"max\": 2020,\n        \"num_unique_values\": 136,\n        \"samples\": [\n          1977,\n          1914\n        ],\n        \"semantic_type\": \"\",\n        \"description\": \"\"\n      }\n    },\n    {\n      \"column\": \"Zip\",\n      \"properties\": {\n        \"dtype\": \"number\",\n        \"std\": 8,\n        \"min\": 84305,\n        \"max\": 84341,\n        \"num_unique_values\": 16,\n        \"samples\": [\n          84335,\n          84328\n        ],\n        \"semantic_type\": \"\",\n        \"description\": \"\"\n      }\n    },\n    {\n      \"column\": \"year_sold\",\n      \"properties\": {\n        \"dtype\": \"number\",\n        \"std\": 0,\n        \"min\": 2018,\n        \"max\": 2020,\n        \"num_unique_values\": 3,\n        \"samples\": [\n          2018,\n          2019\n        ],\n        \"semantic_type\": \"\",\n        \"description\": \"\"\n      }\n    },\n    {\n      \"column\": \"month_sold\",\n      \"properties\": {\n        \"dtype\": \"number\",\n        \"std\": 3,\n        \"min\": 1,\n        \"max\": 12,\n        \"num_unique_values\": 12,\n        \"samples\": [\n          2,\n          3\n        ],\n        \"semantic_type\": \"\",\n        \"description\": \"\"\n      }\n    },\n    {\n      \"column\": \"built_after_2000\",\n      \"properties\": {\n        \"dtype\": \"number\",\n        \"std\": 0,\n        \"min\": 0,\n        \"max\": 1,\n        \"num_unique_values\": 2,\n        \"samples\": [\n          1,\n          0\n        ],\n        \"semantic_type\": \"\",\n        \"description\": \"\"\n      }\n    }\n  ]\n}"
            }
          },
          "metadata": {},
          "execution_count": 2
        }
      ]
    },
    {
      "cell_type": "code",
      "source": [
        "#2\n",
        "# Drop columns\n",
        "df.drop(['Garage Capacity', 'Irregular Shape', 'Zip', 'Sold Terms', 'month_sold', \"Year Built\", \"year_sold\"], axis=1, inplace=True)\n",
        "\n",
        "# Check for missing values\n",
        "df.isnull().sum()"
      ],
      "metadata": {
        "colab": {
          "base_uri": "https://localhost:8080/",
          "height": 366
        },
        "id": "F8uZQ8_KTaaj",
        "outputId": "9660be16-0cc0-4e11-ec50-fcdf6ab1c768"
      },
      "execution_count": 3,
      "outputs": [
        {
          "output_type": "execute_result",
          "data": {
            "text/plain": [
              "Sold Price           0\n",
              "DOM                  0\n",
              "HOA Fee              0\n",
              "Quadrant             0\n",
              "School District      0\n",
              "Total Bedrooms       0\n",
              "Total Bathrooms      0\n",
              "Total Square Feet    0\n",
              "built_after_2000     0\n",
              "dtype: int64"
            ],
            "text/html": [
              "<div>\n",
              "<style scoped>\n",
              "    .dataframe tbody tr th:only-of-type {\n",
              "        vertical-align: middle;\n",
              "    }\n",
              "\n",
              "    .dataframe tbody tr th {\n",
              "        vertical-align: top;\n",
              "    }\n",
              "\n",
              "    .dataframe thead th {\n",
              "        text-align: right;\n",
              "    }\n",
              "</style>\n",
              "<table border=\"1\" class=\"dataframe\">\n",
              "  <thead>\n",
              "    <tr style=\"text-align: right;\">\n",
              "      <th></th>\n",
              "      <th>0</th>\n",
              "    </tr>\n",
              "  </thead>\n",
              "  <tbody>\n",
              "    <tr>\n",
              "      <th>Sold Price</th>\n",
              "      <td>0</td>\n",
              "    </tr>\n",
              "    <tr>\n",
              "      <th>DOM</th>\n",
              "      <td>0</td>\n",
              "    </tr>\n",
              "    <tr>\n",
              "      <th>HOA Fee</th>\n",
              "      <td>0</td>\n",
              "    </tr>\n",
              "    <tr>\n",
              "      <th>Quadrant</th>\n",
              "      <td>0</td>\n",
              "    </tr>\n",
              "    <tr>\n",
              "      <th>School District</th>\n",
              "      <td>0</td>\n",
              "    </tr>\n",
              "    <tr>\n",
              "      <th>Total Bedrooms</th>\n",
              "      <td>0</td>\n",
              "    </tr>\n",
              "    <tr>\n",
              "      <th>Total Bathrooms</th>\n",
              "      <td>0</td>\n",
              "    </tr>\n",
              "    <tr>\n",
              "      <th>Total Square Feet</th>\n",
              "      <td>0</td>\n",
              "    </tr>\n",
              "    <tr>\n",
              "      <th>built_after_2000</th>\n",
              "      <td>0</td>\n",
              "    </tr>\n",
              "  </tbody>\n",
              "</table>\n",
              "</div><br><label><b>dtype:</b> int64</label>"
            ]
          },
          "metadata": {},
          "execution_count": 3
        }
      ]
    },
    {
      "cell_type": "code",
      "source": [
        "#3\n",
        "df.info()\n",
        "\n",
        "df.nunique()"
      ],
      "metadata": {
        "colab": {
          "base_uri": "https://localhost:8080/",
          "height": 644
        },
        "id": "8AKFFL7xUi6i",
        "outputId": "0fa6160d-eb1f-43a4-c91d-a537b71ed83b"
      },
      "execution_count": 4,
      "outputs": [
        {
          "output_type": "stream",
          "name": "stdout",
          "text": [
            "<class 'pandas.core.frame.DataFrame'>\n",
            "RangeIndex: 4110 entries, 0 to 4109\n",
            "Data columns (total 9 columns):\n",
            " #   Column             Non-Null Count  Dtype \n",
            "---  ------             --------------  ----- \n",
            " 0   Sold Price         4110 non-null   int64 \n",
            " 1   DOM                4110 non-null   int64 \n",
            " 2   HOA Fee            4110 non-null   int64 \n",
            " 3   Quadrant           4110 non-null   object\n",
            " 4   School District    4110 non-null   object\n",
            " 5   Total Bedrooms     4110 non-null   int64 \n",
            " 6   Total Bathrooms    4110 non-null   int64 \n",
            " 7   Total Square Feet  4110 non-null   int64 \n",
            " 8   built_after_2000   4110 non-null   int64 \n",
            "dtypes: int64(7), object(2)\n",
            "memory usage: 289.1+ KB\n"
          ]
        },
        {
          "output_type": "execute_result",
          "data": {
            "text/plain": [
              "Sold Price           1217\n",
              "DOM                   248\n",
              "HOA Fee                96\n",
              "Quadrant                4\n",
              "School District         2\n",
              "Total Bedrooms          9\n",
              "Total Bathrooms         7\n",
              "Total Square Feet    2009\n",
              "built_after_2000        2\n",
              "dtype: int64"
            ],
            "text/html": [
              "<div>\n",
              "<style scoped>\n",
              "    .dataframe tbody tr th:only-of-type {\n",
              "        vertical-align: middle;\n",
              "    }\n",
              "\n",
              "    .dataframe tbody tr th {\n",
              "        vertical-align: top;\n",
              "    }\n",
              "\n",
              "    .dataframe thead th {\n",
              "        text-align: right;\n",
              "    }\n",
              "</style>\n",
              "<table border=\"1\" class=\"dataframe\">\n",
              "  <thead>\n",
              "    <tr style=\"text-align: right;\">\n",
              "      <th></th>\n",
              "      <th>0</th>\n",
              "    </tr>\n",
              "  </thead>\n",
              "  <tbody>\n",
              "    <tr>\n",
              "      <th>Sold Price</th>\n",
              "      <td>1217</td>\n",
              "    </tr>\n",
              "    <tr>\n",
              "      <th>DOM</th>\n",
              "      <td>248</td>\n",
              "    </tr>\n",
              "    <tr>\n",
              "      <th>HOA Fee</th>\n",
              "      <td>96</td>\n",
              "    </tr>\n",
              "    <tr>\n",
              "      <th>Quadrant</th>\n",
              "      <td>4</td>\n",
              "    </tr>\n",
              "    <tr>\n",
              "      <th>School District</th>\n",
              "      <td>2</td>\n",
              "    </tr>\n",
              "    <tr>\n",
              "      <th>Total Bedrooms</th>\n",
              "      <td>9</td>\n",
              "    </tr>\n",
              "    <tr>\n",
              "      <th>Total Bathrooms</th>\n",
              "      <td>7</td>\n",
              "    </tr>\n",
              "    <tr>\n",
              "      <th>Total Square Feet</th>\n",
              "      <td>2009</td>\n",
              "    </tr>\n",
              "    <tr>\n",
              "      <th>built_after_2000</th>\n",
              "      <td>2</td>\n",
              "    </tr>\n",
              "  </tbody>\n",
              "</table>\n",
              "</div><br><label><b>dtype:</b> int64</label>"
            ]
          },
          "metadata": {},
          "execution_count": 4
        }
      ]
    },
    {
      "cell_type": "code",
      "source": [
        "#4\n",
        "categorical = [\"Quadrant\", \"School District\", \"built_after_2000\"]\n",
        "\n",
        "numeric = df.columns.difference(categorical)\n",
        "\n",
        "for col in numeric:\n",
        "  df[col] = df[col].astype('float')\n",
        "\n",
        "\n",
        "for col in categorical:\n",
        "  df[col] = df[col].astype('category')\n",
        "\n",
        "  df.info()\n"
      ],
      "metadata": {
        "colab": {
          "base_uri": "https://localhost:8080/"
        },
        "id": "tyBKsCAeQ44z",
        "outputId": "4580b675-2222-4fae-b0bc-7627d1ec0ea0"
      },
      "execution_count": 5,
      "outputs": [
        {
          "output_type": "stream",
          "name": "stdout",
          "text": [
            "<class 'pandas.core.frame.DataFrame'>\n",
            "RangeIndex: 4110 entries, 0 to 4109\n",
            "Data columns (total 9 columns):\n",
            " #   Column             Non-Null Count  Dtype   \n",
            "---  ------             --------------  -----   \n",
            " 0   Sold Price         4110 non-null   float64 \n",
            " 1   DOM                4110 non-null   float64 \n",
            " 2   HOA Fee            4110 non-null   float64 \n",
            " 3   Quadrant           4110 non-null   category\n",
            " 4   School District    4110 non-null   object  \n",
            " 5   Total Bedrooms     4110 non-null   float64 \n",
            " 6   Total Bathrooms    4110 non-null   float64 \n",
            " 7   Total Square Feet  4110 non-null   float64 \n",
            " 8   built_after_2000   4110 non-null   int64   \n",
            "dtypes: category(1), float64(6), int64(1), object(1)\n",
            "memory usage: 261.2+ KB\n",
            "<class 'pandas.core.frame.DataFrame'>\n",
            "RangeIndex: 4110 entries, 0 to 4109\n",
            "Data columns (total 9 columns):\n",
            " #   Column             Non-Null Count  Dtype   \n",
            "---  ------             --------------  -----   \n",
            " 0   Sold Price         4110 non-null   float64 \n",
            " 1   DOM                4110 non-null   float64 \n",
            " 2   HOA Fee            4110 non-null   float64 \n",
            " 3   Quadrant           4110 non-null   category\n",
            " 4   School District    4110 non-null   category\n",
            " 5   Total Bedrooms     4110 non-null   float64 \n",
            " 6   Total Bathrooms    4110 non-null   float64 \n",
            " 7   Total Square Feet  4110 non-null   float64 \n",
            " 8   built_after_2000   4110 non-null   int64   \n",
            "dtypes: category(2), float64(6), int64(1)\n",
            "memory usage: 233.2 KB\n",
            "<class 'pandas.core.frame.DataFrame'>\n",
            "RangeIndex: 4110 entries, 0 to 4109\n",
            "Data columns (total 9 columns):\n",
            " #   Column             Non-Null Count  Dtype   \n",
            "---  ------             --------------  -----   \n",
            " 0   Sold Price         4110 non-null   float64 \n",
            " 1   DOM                4110 non-null   float64 \n",
            " 2   HOA Fee            4110 non-null   float64 \n",
            " 3   Quadrant           4110 non-null   category\n",
            " 4   School District    4110 non-null   category\n",
            " 5   Total Bedrooms     4110 non-null   float64 \n",
            " 6   Total Bathrooms    4110 non-null   float64 \n",
            " 7   Total Square Feet  4110 non-null   float64 \n",
            " 8   built_after_2000   4110 non-null   category\n",
            "dtypes: category(3), float64(6)\n",
            "memory usage: 205.3 KB\n"
          ]
        }
      ]
    },
    {
      "cell_type": "code",
      "source": [
        "#5.1\n",
        "df[\"DOM\"].describe()"
      ],
      "metadata": {
        "colab": {
          "base_uri": "https://localhost:8080/",
          "height": 335
        },
        "id": "oPUQubiqRieJ",
        "outputId": "3e61e020-a409-4265-a4be-f791cd0ed641"
      },
      "execution_count": 6,
      "outputs": [
        {
          "output_type": "execute_result",
          "data": {
            "text/plain": [
              "count    4110.000000\n",
              "mean       40.550608\n",
              "std        51.571991\n",
              "min         1.000000\n",
              "25%         6.000000\n",
              "50%        23.000000\n",
              "75%        56.000000\n",
              "max       712.000000\n",
              "Name: DOM, dtype: float64"
            ],
            "text/html": [
              "<div>\n",
              "<style scoped>\n",
              "    .dataframe tbody tr th:only-of-type {\n",
              "        vertical-align: middle;\n",
              "    }\n",
              "\n",
              "    .dataframe tbody tr th {\n",
              "        vertical-align: top;\n",
              "    }\n",
              "\n",
              "    .dataframe thead th {\n",
              "        text-align: right;\n",
              "    }\n",
              "</style>\n",
              "<table border=\"1\" class=\"dataframe\">\n",
              "  <thead>\n",
              "    <tr style=\"text-align: right;\">\n",
              "      <th></th>\n",
              "      <th>DOM</th>\n",
              "    </tr>\n",
              "  </thead>\n",
              "  <tbody>\n",
              "    <tr>\n",
              "      <th>count</th>\n",
              "      <td>4110.000000</td>\n",
              "    </tr>\n",
              "    <tr>\n",
              "      <th>mean</th>\n",
              "      <td>40.550608</td>\n",
              "    </tr>\n",
              "    <tr>\n",
              "      <th>std</th>\n",
              "      <td>51.571991</td>\n",
              "    </tr>\n",
              "    <tr>\n",
              "      <th>min</th>\n",
              "      <td>1.000000</td>\n",
              "    </tr>\n",
              "    <tr>\n",
              "      <th>25%</th>\n",
              "      <td>6.000000</td>\n",
              "    </tr>\n",
              "    <tr>\n",
              "      <th>50%</th>\n",
              "      <td>23.000000</td>\n",
              "    </tr>\n",
              "    <tr>\n",
              "      <th>75%</th>\n",
              "      <td>56.000000</td>\n",
              "    </tr>\n",
              "    <tr>\n",
              "      <th>max</th>\n",
              "      <td>712.000000</td>\n",
              "    </tr>\n",
              "  </tbody>\n",
              "</table>\n",
              "</div><br><label><b>dtype:</b> float64</label>"
            ]
          },
          "metadata": {},
          "execution_count": 6
        }
      ]
    },
    {
      "cell_type": "markdown",
      "source": [
        "The range(max-min) is, which is 712.00-1.00, 711.00 DOM."
      ],
      "metadata": {
        "id": "rB--tU5vRwcp"
      }
    },
    {
      "cell_type": "code",
      "source": [
        "#5.2\n",
        "\n",
        "plt.figure(figsize=(10, 5))\n",
        "sns.distplot(df['DOM'], bins=40, rug=True)\n",
        "plt.title('Distribution of Days on Market (DOM)')\n",
        "plt.xlabel('Days on Market')\n",
        "plt.ylabel('Density')\n",
        "plt.show()\n"
      ],
      "metadata": {
        "colab": {
          "base_uri": "https://localhost:8080/",
          "height": 496
        },
        "id": "K2EctKIlSKq3",
        "outputId": "33243861-2810-4ae0-f66f-9e462d5434b5"
      },
      "execution_count": 8,
      "outputs": [
        {
          "output_type": "display_data",
          "data": {
            "text/plain": [
              "<Figure size 1000x500 with 1 Axes>"
            ],
            "image/png": "[encoded data removed]"
          },
          "metadata": {}
        }
      ]
    },
    {
      "cell_type": "markdown",
      "source": [
        "The data for \"DOM\" is right-skewed to and indicates that houses are sold more frequently during days 20-50. It is far from normal distribution which would be a bell shaped curve.\n"
      ],
      "metadata": {
        "id": "iG8efnR4Su30"
      }
    },
    {
      "cell_type": "code",
      "source": [
        "#5.3 needs work\n",
        "# Apply log transformation to DOM\n",
        "df['log_DOM'] = np.log(df['DOM'])\n",
        "\n",
        "# Plot the distribution of log(DOM)\n",
        "plt.figure(figsize=(10, 5))\n",
        "sns.distplot(df['log_DOM'], bins=40, rug=True)\n",
        "plt.title('Distribution of log(Days on Market) (log_DOM)')\n",
        "plt.xlabel('log(Days on Market)')\n",
        "plt.ylabel('Density')\n",
        "plt.show()\n"
      ],
      "metadata": {
        "colab": {
          "base_uri": "https://localhost:8080/",
          "height": 496
        },
        "id": "DET1JDXaUEgp",
        "outputId": "e3fab11c-5b16-4a72-b965-f9c81112eef7"
      },
      "execution_count": 9,
      "outputs": [
        {
          "output_type": "display_data",
          "data": {
            "text/plain": [
              "<Figure size 1000x500 with 1 Axes>"
            ],
            "image/png": "[encoded data removed]"
          },
          "metadata": {}
        }
      ]
    },
    {
      "cell_type": "markdown",
      "source": [
        "The data is bimodal meaning it has two peaks and still not normally distributed."
      ],
      "metadata": {
        "id": "RZkDeGVtH3RL"
      }
    },
    {
      "cell_type": "code",
      "source": [
        "#6\n",
        "# Replace spaces with underscores in column names\n",
        "df.columns = df.columns.str.replace(' ', '_')\n"
      ],
      "metadata": {
        "id": "B961nE_3UQj3"
      },
      "execution_count": 10,
      "outputs": []
    },
    {
      "cell_type": "code",
      "source": [
        "df.info()"
      ],
      "metadata": {
        "colab": {
          "base_uri": "https://localhost:8080/"
        },
        "id": "VSlCD73PU5rO",
        "outputId": "45b4543f-77fb-4200-c694-ef5ae7674259"
      },
      "execution_count": 11,
      "outputs": [
        {
          "output_type": "stream",
          "name": "stdout",
          "text": [
            "<class 'pandas.core.frame.DataFrame'>\n",
            "RangeIndex: 4110 entries, 0 to 4109\n",
            "Data columns (total 10 columns):\n",
            " #   Column             Non-Null Count  Dtype   \n",
            "---  ------             --------------  -----   \n",
            " 0   Sold_Price         4110 non-null   float64 \n",
            " 1   DOM                4110 non-null   float64 \n",
            " 2   HOA_Fee            4110 non-null   float64 \n",
            " 3   Quadrant           4110 non-null   category\n",
            " 4   School_District    4110 non-null   category\n",
            " 5   Total_Bedrooms     4110 non-null   float64 \n",
            " 6   Total_Bathrooms    4110 non-null   float64 \n",
            " 7   Total_Square_Feet  4110 non-null   float64 \n",
            " 8   built_after_2000   4110 non-null   category\n",
            " 9   log_DOM            4110 non-null   float64 \n",
            "dtypes: category(3), float64(7)\n",
            "memory usage: 237.4 KB\n"
          ]
        }
      ]
    },
    {
      "cell_type": "code",
      "source": [
        "#7.1\n",
        "# Build the regression model\n",
        "reg1 = smf.ols('DOM ~  Sold_Price +  HOA_Fee +  Total_Bedrooms +  Total_Bathrooms + Total_Square_Feet +  Quadrant +  School_District +  built_after_2000', data=df).fit()\n",
        "\n",
        "#7.3\n",
        "print(reg1.summary())\n"
      ],
      "metadata": {
        "colab": {
          "base_uri": "https://localhost:8080/"
        },
        "id": "FDXnQ-saUmuE",
        "outputId": "9d94b17c-1234-4a43-fdcb-f745a5028d3f"
      },
      "execution_count": 12,
      "outputs": [
        {
          "output_type": "stream",
          "name": "stdout",
          "text": [
            "                            OLS Regression Results                            \n",
            "==============================================================================\n",
            "Dep. Variable:                    DOM   R-squared:                       0.104\n",
            "Model:                            OLS   Adj. R-squared:                  0.102\n",
            "Method:                 Least Squares   F-statistic:                     47.45\n",
            "Date:                Wed, 18 Sep 2024   Prob (F-statistic):           2.73e-90\n",
            "Time:                        03:16:16   Log-Likelihood:                -21812.\n",
            "No. Observations:                4110   AIC:                         4.365e+04\n",
            "Df Residuals:                    4099   BIC:                         4.372e+04\n",
            "Df Model:                          10                                         \n",
            "Covariance Type:            nonrobust                                         \n",
            "============================================================================================\n",
            "                               coef    std err          t      P>|t|      [0.025      0.975]\n",
            "--------------------------------------------------------------------------------------------\n",
            "Intercept                   17.4482      3.664      4.762      0.000      10.264      24.632\n",
            "Quadrant[T.NW]              -1.3290      2.334     -0.569      0.569      -5.905       3.247\n",
            "Quadrant[T.SE]              -4.0166      2.148     -1.870      0.062      -8.228       0.195\n",
            "Quadrant[T.SW]              -4.2135      2.151     -1.959      0.050      -8.430       0.003\n",
            "School_District[T.Logan]    -6.4084      1.834     -3.494      0.000     -10.004      -2.813\n",
            "built_after_2000[T.1]        4.9188      1.824      2.696      0.007       1.342       8.496\n",
            "Sold_Price               -1.894e-05   1.23e-05     -1.540      0.124   -4.31e-05    5.18e-06\n",
            "HOA_Fee                      0.0586      0.012      4.780      0.000       0.035       0.083\n",
            "Total_Bedrooms              -4.6591      0.923     -5.048      0.000      -6.468      -2.850\n",
            "Total_Bathrooms              1.2421      1.285      0.967      0.334      -1.277       3.761\n",
            "Total_Square_Feet            0.0181      0.002     11.644      0.000       0.015       0.021\n",
            "==============================================================================\n",
            "Omnibus:                     2550.291   Durbin-Watson:                   0.386\n",
            "Prob(Omnibus):                  0.000   Jarque-Bera (JB):            41181.563\n",
            "Skew:                           2.684   Prob(JB):                         0.00\n",
            "Kurtosis:                      17.549   Cond. No.                     1.66e+06\n",
            "==============================================================================\n",
            "\n",
            "Notes:\n",
            "[1] Standard Errors assume that the covariance matrix of the errors is correctly specified.\n",
            "[2] The condition number is large, 1.66e+06. This might indicate that there are\n",
            "strong multicollinearity or other numerical problems.\n"
          ]
        }
      ]
    },
    {
      "cell_type": "markdown",
      "source": [
        "#7.4\n",
        "\n",
        "Quadrant SW is selling the fastest with a coefficeint with the biggest difference from the intercept."
      ],
      "metadata": {
        "id": "XAodARgeI9W9"
      }
    },
    {
      "cell_type": "code",
      "source": [
        "#7.5\n",
        "# Get the coefficient for HOA_Fee\n",
        "hoa_fee_coef = reg1.params['HOA_Fee']\n",
        "\n",
        "# Calculate the change in DOM for a $100 increase in HOA_Fee\n",
        "change_in_dom = hoa_fee_coef * 100\n",
        "\n",
        "print(f\"If HOA fee increases by $100, the average DOM is expected to change by {change_in_dom:.2f} days.\")\n"
      ],
      "metadata": {
        "colab": {
          "base_uri": "https://localhost:8080/"
        },
        "id": "FphB9KN3JPLR",
        "outputId": "c342235e-9461-4207-a892-87a7555f8571"
      },
      "execution_count": 14,
      "outputs": [
        {
          "output_type": "stream",
          "name": "stdout",
          "text": [
            "If HOA fee increases by $100, the average DOM is expected to change by 5.86 days.\n"
          ]
        }
      ]
    },
    {
      "cell_type": "code",
      "source": [
        "df['HOA_Fee'].describe()"
      ],
      "metadata": {
        "colab": {
          "base_uri": "https://localhost:8080/",
          "height": 335
        },
        "id": "c2d5HuTPJkGU",
        "outputId": "61f74198-1c29-4e43-b061-ca3cb077bd3b"
      },
      "execution_count": 15,
      "outputs": [
        {
          "output_type": "execute_result",
          "data": {
            "text/plain": [
              "count    4110.000000\n",
              "mean       36.178345\n",
              "std        69.565512\n",
              "min         0.000000\n",
              "25%         0.000000\n",
              "50%         0.000000\n",
              "75%        65.000000\n",
              "max      1050.000000\n",
              "Name: HOA_Fee, dtype: float64"
            ],
            "text/html": [
              "<div>\n",
              "<style scoped>\n",
              "    .dataframe tbody tr th:only-of-type {\n",
              "        vertical-align: middle;\n",
              "    }\n",
              "\n",
              "    .dataframe tbody tr th {\n",
              "        vertical-align: top;\n",
              "    }\n",
              "\n",
              "    .dataframe thead th {\n",
              "        text-align: right;\n",
              "    }\n",
              "</style>\n",
              "<table border=\"1\" class=\"dataframe\">\n",
              "  <thead>\n",
              "    <tr style=\"text-align: right;\">\n",
              "      <th></th>\n",
              "      <th>HOA_Fee</th>\n",
              "    </tr>\n",
              "  </thead>\n",
              "  <tbody>\n",
              "    <tr>\n",
              "      <th>count</th>\n",
              "      <td>4110.000000</td>\n",
              "    </tr>\n",
              "    <tr>\n",
              "      <th>mean</th>\n",
              "      <td>36.178345</td>\n",
              "    </tr>\n",
              "    <tr>\n",
              "      <th>std</th>\n",
              "      <td>69.565512</td>\n",
              "    </tr>\n",
              "    <tr>\n",
              "      <th>min</th>\n",
              "      <td>0.000000</td>\n",
              "    </tr>\n",
              "    <tr>\n",
              "      <th>25%</th>\n",
              "      <td>0.000000</td>\n",
              "    </tr>\n",
              "    <tr>\n",
              "      <th>50%</th>\n",
              "      <td>0.000000</td>\n",
              "    </tr>\n",
              "    <tr>\n",
              "      <th>75%</th>\n",
              "      <td>65.000000</td>\n",
              "    </tr>\n",
              "    <tr>\n",
              "      <th>max</th>\n",
              "      <td>1050.000000</td>\n",
              "    </tr>\n",
              "  </tbody>\n",
              "</table>\n",
              "</div><br><label><b>dtype:</b> float64</label>"
            ]
          },
          "metadata": {},
          "execution_count": 15
        }
      ]
    },
    {
      "cell_type": "markdown",
      "source": [
        "If HOA fees incread by 100 then the expected change moves by 5.86 days, which is not reasonable considering a small adjustment in price change which isa fraction of the price of a home."
      ],
      "metadata": {
        "id": "-eDiMXoRJZfb"
      }
    },
    {
      "cell_type": "code",
      "source": [
        "#7.2\n",
        "\n",
        "# Build the regression model with log_DOM as the dependent variable\n",
        "reg2 = smf.ols('log_DOM ~  Sold_Price +  HOA_Fee +  Total_Bedrooms +  Total_Bathrooms + Total_Square_Feet +  Quadrant +  School_District +  built_after_2000', data=df).fit()\n",
        "\n",
        "#7.3\n",
        "print(reg2.summary())"
      ],
      "metadata": {
        "colab": {
          "base_uri": "https://localhost:8080/"
        },
        "id": "z6KeXEk4VXbE",
        "outputId": "099732ea-6d92-4582-c5df-236ef5d461e3"
      },
      "execution_count": 13,
      "outputs": [
        {
          "output_type": "stream",
          "name": "stdout",
          "text": [
            "                            OLS Regression Results                            \n",
            "==============================================================================\n",
            "Dep. Variable:                log_DOM   R-squared:                       0.095\n",
            "Model:                            OLS   Adj. R-squared:                  0.093\n",
            "Method:                 Least Squares   F-statistic:                     43.11\n",
            "Date:                Wed, 18 Sep 2024   Prob (F-statistic):           6.17e-82\n",
            "Time:                        03:17:09   Log-Likelihood:                -6944.5\n",
            "No. Observations:                4110   AIC:                         1.391e+04\n",
            "Df Residuals:                    4099   BIC:                         1.398e+04\n",
            "Df Model:                          10                                         \n",
            "Covariance Type:            nonrobust                                         \n",
            "============================================================================================\n",
            "                               coef    std err          t      P>|t|      [0.025      0.975]\n",
            "--------------------------------------------------------------------------------------------\n",
            "Intercept                    2.1937      0.098     22.294      0.000       2.001       2.387\n",
            "Quadrant[T.NW]              -0.0076      0.063     -0.121      0.904      -0.130       0.115\n",
            "Quadrant[T.SE]              -0.0176      0.058     -0.305      0.760      -0.131       0.095\n",
            "Quadrant[T.SW]              -0.0928      0.058     -1.606      0.108      -0.206       0.020\n",
            "School_District[T.Logan]    -0.1889      0.049     -3.836      0.000      -0.285      -0.092\n",
            "built_after_2000[T.1]        0.2310      0.049      4.715      0.000       0.135       0.327\n",
            "Sold_Price               -1.737e-06    3.3e-07     -5.259      0.000   -2.38e-06   -1.09e-06\n",
            "HOA_Fee                      0.0013      0.000      3.823      0.000       0.001       0.002\n",
            "Total_Bedrooms              -0.0388      0.025     -1.564      0.118      -0.087       0.010\n",
            "Total_Bathrooms              0.0563      0.035      1.630      0.103      -0.011       0.124\n",
            "Total_Square_Feet            0.0005   4.18e-05     11.610      0.000       0.000       0.001\n",
            "==============================================================================\n",
            "Omnibus:                      298.242   Durbin-Watson:                   0.206\n",
            "Prob(Omnibus):                  0.000   Jarque-Bera (JB):              131.352\n",
            "Skew:                          -0.233   Prob(JB):                     3.00e-29\n",
            "Kurtosis:                       2.259   Cond. No.                     1.66e+06\n",
            "==============================================================================\n",
            "\n",
            "Notes:\n",
            "[1] Standard Errors assume that the covariance matrix of the errors is correctly specified.\n",
            "[2] The condition number is large, 1.66e+06. This might indicate that there are\n",
            "strong multicollinearity or other numerical problems.\n"
          ]
        }
      ]
    },
    {
      "cell_type": "code",
      "source": [
        "#7.6\n",
        "# Get the coefficient for Total_Bedrooms\n",
        "total_bedrooms_coef = reg2.params['Total_Bedrooms']\n",
        "\n",
        "print(f\"For every additional bedroom, the log of DOM is expected to change by {total_bedrooms_coef:.4f}.\")\n",
        "\n",
        "# To get a better understanding of the impact on DOM, we can exponentiate the coefficient:\n",
        "import math\n",
        "change_in_dom = math.exp(total_bedrooms_coef) - 1\n",
        "print(f\"For every additional bedroom, the DOM is expected to change by {change_in_dom:.2f}%\")\n",
        "\n"
      ],
      "metadata": {
        "colab": {
          "base_uri": "https://localhost:8080/"
        },
        "id": "961FvebeJ4y_",
        "outputId": "e065c4b7-d71a-4f0c-fd21-85d912dd240c"
      },
      "execution_count": 18,
      "outputs": [
        {
          "output_type": "stream",
          "name": "stdout",
          "text": [
            "For every additional bedroom, the log of DOM is expected to change by -0.0388.\n",
            "For every additional bedroom, the DOM is expected to change by -0.04%\n"
          ]
        }
      ]
    },
    {
      "cell_type": "markdown",
      "source": [
        "#7.6\n",
        "\n",
        "The small increase is expected because more rooms means a higher increase in price which would result in a longer days on the market."
      ],
      "metadata": {
        "id": "eKKtsXTUKROQ"
      }
    },
    {
      "cell_type": "code",
      "source": [
        "#8.1\n",
        "from sklearn.metrics import mean_absolute_error, mean_squared_error\n",
        "import math\n",
        "\n",
        "# Predict DOM using the model\n",
        "predictions = reg1.predict(df)\n",
        "\n",
        "# Calculate MAE\n",
        "mae = mean_absolute_error(df['DOM'], predictions)\n",
        "print(f'MAE: {mae}')\n",
        "\n",
        "# Calculate MSE\n",
        "mse = mean_squared_error(df['DOM'], predictions)\n",
        "print(f'MSE: {mse}')\n",
        "\n",
        "# Calculate RMSE\n",
        "rmse = math.sqrt(mse)\n",
        "print(f'RMSE: {rmse}')\n",
        "\n",
        "# Calculate RMSPE\n",
        "rmspe = math.sqrt(np.mean(np.square((df['DOM'] - predictions) / df['DOM']))) * 100\n",
        "print(f'RMSPE: {rmspe}')\n"
      ],
      "metadata": {
        "colab": {
          "base_uri": "https://localhost:8080/"
        },
        "id": "pRrNkWVrWjdS",
        "outputId": "970a7bc3-e5b8-4ff6-af59-ed2efeac893b"
      },
      "execution_count": 19,
      "outputs": [
        {
          "output_type": "stream",
          "name": "stdout",
          "text": [
            "MAE: 33.56984614164994\n",
            "MSE: 2383.127964493403\n",
            "RMSE: 48.817291654632\n",
            "RMSPE: 831.6233955432083\n"
          ]
        }
      ]
    },
    {
      "cell_type": "markdown",
      "source": [
        "#8.2\n",
        "\n",
        "The RMSPE is 831.6 meaning on average the values predicted by the model deviated by 831.6 percent which indicates there could be an overfitting/underfitting problem, high variability among predictions which would take more hyper tuning, or potential isses with the dat or features that were selected. I also tried manually calculating the values so i can confidentely say it is one of the previous listed issues.\n",
        "\n",
        "#8.3\n",
        "\n",
        "An MAE of 33.57 is likely days which would be mean there was an average error of 33.57 days\n",
        "THe unit of RMSE is 48.82 days meaning there was a typical prediction erro of 48.82 days."
      ],
      "metadata": {
        "id": "2kR3d1BHKq-g"
      }
    }
  ]
}