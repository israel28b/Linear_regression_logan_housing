{
  "nbformat": 4,
  "nbformat_minor": 0,
  "metadata": {
    "colab": {
      "provenance": []
    },
    "kernelspec": {
      "name": "python3",
      "display_name": "Python 3"
    },
    "language_info": {
      "name": "python"
    }
  },
  "cells": [
    {
      "cell_type": "code",
      "execution_count": 14,
      "metadata": {
        "id": "ZhUlMaeTCYDG"
      },
      "outputs": [],
      "source": [
        "import numpy as np\n",
        "import pandas as pd\n",
        "import matplotlib.pyplot as plt\n",
        "import seaborn as sns"
      ]
    },
    {
      "cell_type": "code",
      "source": [
        "df = pd.read_csv('/content/nyc-rolling-sales-cleaned.csv')"
      ],
      "metadata": {
        "id": "F7_jsmX2CqpP"
      },
      "execution_count": 15,
      "outputs": []
    },
    {
      "cell_type": "code",
      "source": [
        "df.head()"
      ],
      "metadata": {
        "colab": {
          "base_uri": "https://localhost:8080/",
          "height": 516
        },
        "id": "ZPgM1KF1CxfN",
        "outputId": "c7770180-a0f8-401d-8d45-42ac89e77d28"
      },
      "execution_count": 16,
      "outputs": [
        {
          "output_type": "execute_result",
          "data": {
            "text/plain": [
              "     BOROUGH   NEIGHBORHOOD                      BUILDING CLASS CATEGORY  \\\n",
              "0  Manhattan  ALPHABET CITY  07 RENTALS - WALKUP APARTMENTS                \n",
              "1  Manhattan  ALPHABET CITY  07 RENTALS - WALKUP APARTMENTS                \n",
              "2  Manhattan  ALPHABET CITY  07 RENTALS - WALKUP APARTMENTS                \n",
              "3  Manhattan  ALPHABET CITY  07 RENTALS - WALKUP APARTMENTS                \n",
              "4  Manhattan  ALPHABET CITY  14 RENTALS - 4-10 UNIT                        \n",
              "\n",
              "   TAX CLASS AT PRESENT  BLOCK  LOT EASE-MENT BUILDING CLASS AT PRESENT  \\\n",
              "0                   NaN    392    6                                  C2   \n",
              "1                   NaN    402   21                                  C4   \n",
              "2                   NaN    404   55                                  C2   \n",
              "3                   NaN    406   32                                  C4   \n",
              "4                   NaN    391   19                                  S3   \n",
              "\n",
              "  APARTMENT NUMBER  ZIP CODE  ...  COMMERCIAL UNITS  TOTAL UNITS  \\\n",
              "0                      10009  ...                 0            5   \n",
              "1                      10009  ...                 0           10   \n",
              "2                      10009  ...                 0            6   \n",
              "3                      10009  ...                 0            8   \n",
              "4                      10009  ...                 1            4   \n",
              "\n",
              "   LAND SQUARE FEET  GROSS SQUARE FEET  YEAR BUILT  TAX CLASS AT TIME OF SALE  \\\n",
              "0            1633.0             6440.0        1900                          2   \n",
              "1            2272.0             6794.0        1913                          2   \n",
              "2            2369.0             4615.0        1900                          2   \n",
              "3            1750.0             4226.0        1920                          2   \n",
              "4            1520.0             3360.0        1910                          2   \n",
              "\n",
              "   BUILDING CLASS AT TIME OF SALE SALE PRICE  SALE DATE  \\\n",
              "0                              C2  6625000.0    2017-07   \n",
              "1                              C4  3936272.0    2016-09   \n",
              "2                              C2  8000000.0    2016-11   \n",
              "3                              C4  3192840.0    2016-09   \n",
              "4                              S3  3300000.0    2016-11   \n",
              "\n",
              "                    TAX CLASS AT PRESENT_Categorized  \n",
              "0  Class 2: Larger Residential Properties (e.g., ...  \n",
              "1  Class 2: Larger Residential Properties (e.g., ...  \n",
              "2  Class 2: Larger Residential Properties (e.g., ...  \n",
              "3  Class 2: Larger Residential Properties (e.g., ...  \n",
              "4  Class 2: Larger Residential Properties (e.g., ...  \n",
              "\n",
              "[5 rows x 21 columns]"
            ],
            "text/html": [
              "\n",
              "  <div id=\"df-96d499f1-110f-449f-abc8-00ccda14dee0\" class=\"colab-df-container\">\n",
              "    <div>\n",
              "<style scoped>\n",
              "    .dataframe tbody tr th:only-of-type {\n",
              "        vertical-align: middle;\n",
              "    }\n",
              "\n",
              "    .dataframe tbody tr th {\n",
              "        vertical-align: top;\n",
              "    }\n",
              "\n",
              "    .dataframe thead th {\n",
              "        text-align: right;\n",
              "    }\n",
              "</style>\n",
              "<table border=\"1\" class=\"dataframe\">\n",
              "  <thead>\n",
              "    <tr style=\"text-align: right;\">\n",
              "      <th></th>\n",
              "      <th>BOROUGH</th>\n",
              "      <th>NEIGHBORHOOD</th>\n",
              "      <th>BUILDING CLASS CATEGORY</th>\n",
              "      <th>TAX CLASS AT PRESENT</th>\n",
              "      <th>BLOCK</th>\n",
              "      <th>LOT</th>\n",
              "      <th>EASE-MENT</th>\n",
              "      <th>BUILDING CLASS AT PRESENT</th>\n",
              "      <th>APARTMENT NUMBER</th>\n",
              "      <th>ZIP CODE</th>\n",
              "      <th>...</th>\n",
              "      <th>COMMERCIAL UNITS</th>\n",
              "      <th>TOTAL UNITS</th>\n",
              "      <th>LAND SQUARE FEET</th>\n",
              "      <th>GROSS SQUARE FEET</th>\n",
              "      <th>YEAR BUILT</th>\n",
              "      <th>TAX CLASS AT TIME OF SALE</th>\n",
              "      <th>BUILDING CLASS AT TIME OF SALE</th>\n",
              "      <th>SALE PRICE</th>\n",
              "      <th>SALE DATE</th>\n",
              "      <th>TAX CLASS AT PRESENT_Categorized</th>\n",
              "    </tr>\n",
              "  </thead>\n",
              "  <tbody>\n",
              "    <tr>\n",
              "      <th>0</th>\n",
              "      <td>Manhattan</td>\n",
              "      <td>ALPHABET CITY</td>\n",
              "      <td>07 RENTALS - WALKUP APARTMENTS</td>\n",
              "      <td>NaN</td>\n",
              "      <td>392</td>\n",
              "      <td>6</td>\n",
              "      <td></td>\n",
              "      <td>C2</td>\n",
              "      <td></td>\n",
              "      <td>10009</td>\n",
              "      <td>...</td>\n",
              "      <td>0</td>\n",
              "      <td>5</td>\n",
              "      <td>1633.0</td>\n",
              "      <td>6440.0</td>\n",
              "      <td>1900</td>\n",
              "      <td>2</td>\n",
              "      <td>C2</td>\n",
              "      <td>6625000.0</td>\n",
              "      <td>2017-07</td>\n",
              "      <td>Class 2: Larger Residential Properties (e.g., ...</td>\n",
              "    </tr>\n",
              "    <tr>\n",
              "      <th>1</th>\n",
              "      <td>Manhattan</td>\n",
              "      <td>ALPHABET CITY</td>\n",
              "      <td>07 RENTALS - WALKUP APARTMENTS</td>\n",
              "      <td>NaN</td>\n",
              "      <td>402</td>\n",
              "      <td>21</td>\n",
              "      <td></td>\n",
              "      <td>C4</td>\n",
              "      <td></td>\n",
              "      <td>10009</td>\n",
              "      <td>...</td>\n",
              "      <td>0</td>\n",
              "      <td>10</td>\n",
              "      <td>2272.0</td>\n",
              "      <td>6794.0</td>\n",
              "      <td>1913</td>\n",
              "      <td>2</td>\n",
              "      <td>C4</td>\n",
              "      <td>3936272.0</td>\n",
              "      <td>2016-09</td>\n",
              "      <td>Class 2: Larger Residential Properties (e.g., ...</td>\n",
              "    </tr>\n",
              "    <tr>\n",
              "      <th>2</th>\n",
              "      <td>Manhattan</td>\n",
              "      <td>ALPHABET CITY</td>\n",
              "      <td>07 RENTALS - WALKUP APARTMENTS</td>\n",
              "      <td>NaN</td>\n",
              "      <td>404</td>\n",
              "      <td>55</td>\n",
              "      <td></td>\n",
              "      <td>C2</td>\n",
              "      <td></td>\n",
              "      <td>10009</td>\n",
              "      <td>...</td>\n",
              "      <td>0</td>\n",
              "      <td>6</td>\n",
              "      <td>2369.0</td>\n",
              "      <td>4615.0</td>\n",
              "      <td>1900</td>\n",
              "      <td>2</td>\n",
              "      <td>C2</td>\n",
              "      <td>8000000.0</td>\n",
              "      <td>2016-11</td>\n",
              "      <td>Class 2: Larger Residential Properties (e.g., ...</td>\n",
              "    </tr>\n",
              "    <tr>\n",
              "      <th>3</th>\n",
              "      <td>Manhattan</td>\n",
              "      <td>ALPHABET CITY</td>\n",
              "      <td>07 RENTALS - WALKUP APARTMENTS</td>\n",
              "      <td>NaN</td>\n",
              "      <td>406</td>\n",
              "      <td>32</td>\n",
              "      <td></td>\n",
              "      <td>C4</td>\n",
              "      <td></td>\n",
              "      <td>10009</td>\n",
              "      <td>...</td>\n",
              "      <td>0</td>\n",
              "      <td>8</td>\n",
              "      <td>1750.0</td>\n",
              "      <td>4226.0</td>\n",
              "      <td>1920</td>\n",
              "      <td>2</td>\n",
              "      <td>C4</td>\n",
              "      <td>3192840.0</td>\n",
              "      <td>2016-09</td>\n",
              "      <td>Class 2: Larger Residential Properties (e.g., ...</td>\n",
              "    </tr>\n",
              "    <tr>\n",
              "      <th>4</th>\n",
              "      <td>Manhattan</td>\n",
              "      <td>ALPHABET CITY</td>\n",
              "      <td>14 RENTALS - 4-10 UNIT</td>\n",
              "      <td>NaN</td>\n",
              "      <td>391</td>\n",
              "      <td>19</td>\n",
              "      <td></td>\n",
              "      <td>S3</td>\n",
              "      <td></td>\n",
              "      <td>10009</td>\n",
              "      <td>...</td>\n",
              "      <td>1</td>\n",
              "      <td>4</td>\n",
              "      <td>1520.0</td>\n",
              "      <td>3360.0</td>\n",
              "      <td>1910</td>\n",
              "      <td>2</td>\n",
              "      <td>S3</td>\n",
              "      <td>3300000.0</td>\n",
              "      <td>2016-11</td>\n",
              "      <td>Class 2: Larger Residential Properties (e.g., ...</td>\n",
              "    </tr>\n",
              "  </tbody>\n",
              "</table>\n",
              "<p>5 rows × 21 columns</p>\n",
              "</div>\n",
              "    <div class=\"colab-df-buttons\">\n",
              "\n",
              "  <div class=\"colab-df-container\">\n",
              "    <button class=\"colab-df-convert\" onclick=\"convertToInteractive('df-96d499f1-110f-449f-abc8-00ccda14dee0')\"\n",
              "            title=\"Convert this dataframe to an interactive table.\"\n",
              "            style=\"display:none;\">\n",
              "\n",
              "  <svg xmlns=\"http://www.w3.org/2000/svg\" height=\"24px\" viewBox=\"0 -960 960 960\">\n",
              "    <path d=\"M120-120v-720h720v720H120Zm60-500h600v-160H180v160Zm220 220h160v-160H400v160Zm0 220h160v-160H400v160ZM180-400h160v-160H180v160Zm440 0h160v-160H620v160ZM180-180h160v-160H180v160Zm440 0h160v-160H620v160Z\"/>\n",
              "  </svg>\n",
              "    </button>\n",
              "\n",
              "  <style>\n",
              "    .colab-df-container {\n",
              "      display:flex;\n",
              "      gap: 12px;\n",
              "    }\n",
              "\n",
              "    .colab-df-convert {\n",
              "      background-color: #E8F0FE;\n",
              "      border: none;\n",
              "      border-radius: 50%;\n",
              "      cursor: pointer;\n",
              "      display: none;\n",
              "      fill: #1967D2;\n",
              "      height: 32px;\n",
              "      padding: 0 0 0 0;\n",
              "      width: 32px;\n",
              "    }\n",
              "\n",
              "    .colab-df-convert:hover {\n",
              "      background-color: #E2EBFA;\n",
              "      box-shadow: 0px 1px 2px rgba(60, 64, 67, 0.3), 0px 1px 3px 1px rgba(60, 64, 67, 0.15);\n",
              "      fill: #174EA6;\n",
              "    }\n",
              "\n",
              "    .colab-df-buttons div {\n",
              "      margin-bottom: 4px;\n",
              "    }\n",
              "\n",
              "    [theme=dark] .colab-df-convert {\n",
              "      background-color: #3B4455;\n",
              "      fill: #D2E3FC;\n",
              "    }\n",
              "\n",
              "    [theme=dark] .colab-df-convert:hover {\n",
              "      background-color: #434B5C;\n",
              "      box-shadow: 0px 1px 3px 1px rgba(0, 0, 0, 0.15);\n",
              "      filter: drop-shadow(0px 1px 2px rgba(0, 0, 0, 0.3));\n",
              "      fill: #FFFFFF;\n",
              "    }\n",
              "  </style>\n",
              "\n",
              "    <script>\n",
              "      const buttonEl =\n",
              "        document.querySelector('#df-96d499f1-110f-449f-abc8-00ccda14dee0 button.colab-df-convert');\n",
              "      buttonEl.style.display =\n",
              "        google.colab.kernel.accessAllowed ? 'block' : 'none';\n",
              "\n",
              "      async function convertToInteractive(key) {\n",
              "        const element = document.querySelector('#df-96d499f1-110f-449f-abc8-00ccda14dee0');\n",
              "        const dataTable =\n",
              "          await google.colab.kernel.invokeFunction('convertToInteractive',\n",
              "                                                    [key], {});\n",
              "        if (!dataTable) return;\n",
              "\n",
              "        const docLinkHtml = 'Like what you see? Visit the ' +\n",
              "          '<a target=\"_blank\" href=https://colab.research.google.com/notebooks/data_table.ipynb>data table notebook</a>'\n",
              "          + ' to learn more about interactive tables.';\n",
              "        element.innerHTML = '';\n",
              "        dataTable['output_type'] = 'display_data';\n",
              "        await google.colab.output.renderOutput(dataTable, element);\n",
              "        const docLink = document.createElement('div');\n",
              "        docLink.innerHTML = docLinkHtml;\n",
              "        element.appendChild(docLink);\n",
              "      }\n",
              "    </script>\n",
              "  </div>\n",
              "\n",
              "\n",
              "<div id=\"df-034609da-4721-4023-a463-d486ac4d3629\">\n",
              "  <button class=\"colab-df-quickchart\" onclick=\"quickchart('df-034609da-4721-4023-a463-d486ac4d3629')\"\n",
              "            title=\"Suggest charts\"\n",
              "            style=\"display:none;\">\n",
              "\n",
              "<svg xmlns=\"http://www.w3.org/2000/svg\" height=\"24px\"viewBox=\"0 0 24 24\"\n",
              "     width=\"24px\">\n",
              "    <g>\n",
              "        <path d=\"M19 3H5c-1.1 0-2 .9-2 2v14c0 1.1.9 2 2 2h14c1.1 0 2-.9 2-2V5c0-1.1-.9-2-2-2zM9 17H7v-7h2v7zm4 0h-2V7h2v10zm4 0h-2v-4h2v4z\"/>\n",
              "    </g>\n",
              "</svg>\n",
              "  </button>\n",
              "\n",
              "<style>\n",
              "  .colab-df-quickchart {\n",
              "      --bg-color: #E8F0FE;\n",
              "      --fill-color: #1967D2;\n",
              "      --hover-bg-color: #E2EBFA;\n",
              "      --hover-fill-color: #174EA6;\n",
              "      --disabled-fill-color: #AAA;\n",
              "      --disabled-bg-color: #DDD;\n",
              "  }\n",
              "\n",
              "  [theme=dark] .colab-df-quickchart {\n",
              "      --bg-color: #3B4455;\n",
              "      --fill-color: #D2E3FC;\n",
              "      --hover-bg-color: #434B5C;\n",
              "      --hover-fill-color: #FFFFFF;\n",
              "      --disabled-bg-color: #3B4455;\n",
              "      --disabled-fill-color: #666;\n",
              "  }\n",
              "\n",
              "  .colab-df-quickchart {\n",
              "    background-color: var(--bg-color);\n",
              "    border: none;\n",
              "    border-radius: 50%;\n",
              "    cursor: pointer;\n",
              "    display: none;\n",
              "    fill: var(--fill-color);\n",
              "    height: 32px;\n",
              "    padding: 0;\n",
              "    width: 32px;\n",
              "  }\n",
              "\n",
              "  .colab-df-quickchart:hover {\n",
              "    background-color: var(--hover-bg-color);\n",
              "    box-shadow: 0 1px 2px rgba(60, 64, 67, 0.3), 0 1px 3px 1px rgba(60, 64, 67, 0.15);\n",
              "    fill: var(--button-hover-fill-color);\n",
              "  }\n",
              "\n",
              "  .colab-df-quickchart-complete:disabled,\n",
              "  .colab-df-quickchart-complete:disabled:hover {\n",
              "    background-color: var(--disabled-bg-color);\n",
              "    fill: var(--disabled-fill-color);\n",
              "    box-shadow: none;\n",
              "  }\n",
              "\n",
              "  .colab-df-spinner {\n",
              "    border: 2px solid var(--fill-color);\n",
              "    border-color: transparent;\n",
              "    border-bottom-color: var(--fill-color);\n",
              "    animation:\n",
              "      spin 1s steps(1) infinite;\n",
              "  }\n",
              "\n",
              "  @keyframes spin {\n",
              "    0% {\n",
              "      border-color: transparent;\n",
              "      border-bottom-color: var(--fill-color);\n",
              "      border-left-color: var(--fill-color);\n",
              "    }\n",
              "    20% {\n",
              "      border-color: transparent;\n",
              "      border-left-color: var(--fill-color);\n",
              "      border-top-color: var(--fill-color);\n",
              "    }\n",
              "    30% {\n",
              "      border-color: transparent;\n",
              "      border-left-color: var(--fill-color);\n",
              "      border-top-color: var(--fill-color);\n",
              "      border-right-color: var(--fill-color);\n",
              "    }\n",
              "    40% {\n",
              "      border-color: transparent;\n",
              "      border-right-color: var(--fill-color);\n",
              "      border-top-color: var(--fill-color);\n",
              "    }\n",
              "    60% {\n",
              "      border-color: transparent;\n",
              "      border-right-color: var(--fill-color);\n",
              "    }\n",
              "    80% {\n",
              "      border-color: transparent;\n",
              "      border-right-color: var(--fill-color);\n",
              "      border-bottom-color: var(--fill-color);\n",
              "    }\n",
              "    90% {\n",
              "      border-color: transparent;\n",
              "      border-bottom-color: var(--fill-color);\n",
              "    }\n",
              "  }\n",
              "</style>\n",
              "\n",
              "  <script>\n",
              "    async function quickchart(key) {\n",
              "      const quickchartButtonEl =\n",
              "        document.querySelector('#' + key + ' button');\n",
              "      quickchartButtonEl.disabled = true;  // To prevent multiple clicks.\n",
              "      quickchartButtonEl.classList.add('colab-df-spinner');\n",
              "      try {\n",
              "        const charts = await google.colab.kernel.invokeFunction(\n",
              "            'suggestCharts', [key], {});\n",
              "      } catch (error) {\n",
              "        console.error('Error during call to suggestCharts:', error);\n",
              "      }\n",
              "      quickchartButtonEl.classList.remove('colab-df-spinner');\n",
              "      quickchartButtonEl.classList.add('colab-df-quickchart-complete');\n",
              "    }\n",
              "    (() => {\n",
              "      let quickchartButtonEl =\n",
              "        document.querySelector('#df-034609da-4721-4023-a463-d486ac4d3629 button');\n",
              "      quickchartButtonEl.style.display =\n",
              "        google.colab.kernel.accessAllowed ? 'block' : 'none';\n",
              "    })();\n",
              "  </script>\n",
              "</div>\n",
              "\n",
              "    </div>\n",
              "  </div>\n"
            ],
            "application/vnd.google.colaboratory.intrinsic+json": {
              "type": "dataframe",
              "variable_name": "df"
            }
          },
          "metadata": {},
          "execution_count": 16
        }
      ]
    },
    {
      "cell_type": "code",
      "source": [
        "#1\n",
        "\n",
        "#I changed my variable types previously\n",
        "\n",
        "df.info()"
      ],
      "metadata": {
        "colab": {
          "base_uri": "https://localhost:8080/"
        },
        "id": "WM5jP737ZsEL",
        "outputId": "27e8c9f8-dec8-43b7-e97f-fbd4983b73ad"
      },
      "execution_count": 17,
      "outputs": [
        {
          "output_type": "stream",
          "name": "stdout",
          "text": [
            "<class 'pandas.core.frame.DataFrame'>\n",
            "RangeIndex: 27586 entries, 0 to 27585\n",
            "Data columns (total 21 columns):\n",
            " #   Column                            Non-Null Count  Dtype  \n",
            "---  ------                            --------------  -----  \n",
            " 0   BOROUGH                           27586 non-null  object \n",
            " 1   NEIGHBORHOOD                      27586 non-null  object \n",
            " 2   BUILDING CLASS CATEGORY           27586 non-null  object \n",
            " 3   TAX CLASS AT PRESENT              0 non-null      float64\n",
            " 4   BLOCK                             27586 non-null  int64  \n",
            " 5   LOT                               27586 non-null  int64  \n",
            " 6   EASE-MENT                         27586 non-null  object \n",
            " 7   BUILDING CLASS AT PRESENT         27586 non-null  object \n",
            " 8   APARTMENT NUMBER                  27586 non-null  object \n",
            " 9   ZIP CODE                          27586 non-null  int64  \n",
            " 10  RESIDENTIAL UNITS                 27586 non-null  int64  \n",
            " 11  COMMERCIAL UNITS                  27586 non-null  int64  \n",
            " 12  TOTAL UNITS                       27586 non-null  int64  \n",
            " 13  LAND SQUARE FEET                  27586 non-null  float64\n",
            " 14  GROSS SQUARE FEET                 27586 non-null  float64\n",
            " 15  YEAR BUILT                        27586 non-null  int64  \n",
            " 16  TAX CLASS AT TIME OF SALE         27586 non-null  int64  \n",
            " 17  BUILDING CLASS AT TIME OF SALE    27586 non-null  object \n",
            " 18  SALE PRICE                        27586 non-null  float64\n",
            " 19  SALE DATE                         27586 non-null  object \n",
            " 20  TAX CLASS AT PRESENT_Categorized  27586 non-null  object \n",
            "dtypes: float64(4), int64(8), object(9)\n",
            "memory usage: 4.4+ MB\n"
          ]
        }
      ]
    },
    {
      "cell_type": "code",
      "source": [
        "#2\n",
        "\n",
        "df['target'] = np.log(df['SALE PRICE'])\n",
        "\n"
      ],
      "metadata": {
        "id": "fzyiEPVNZ9In"
      },
      "execution_count": 18,
      "outputs": []
    },
    {
      "cell_type": "markdown",
      "source": [
        "# #2\n",
        "\n",
        "If you keep 'SALE PRICE' in the model, then the model will most likely overfit as it is break the collinearity rule and will have redudant information."
      ],
      "metadata": {
        "id": "mT4meRphucw6"
      }
    },
    {
      "cell_type": "code",
      "source": [
        "#3\n",
        "features = ['BOROUGH', 'NEIGHBORHOOD', 'BUILDING CLASS CATEGORY',\n",
        "            'BLOCK', 'LOT', 'BUILDING CLASS AT PRESENT',\n",
        "            'RESIDENTIAL UNITS', 'COMMERCIAL UNITS',\n",
        "            'TOTAL UNITS', 'LAND SQUARE FEET', 'GROSS SQUARE FEET',\n",
        "            'YEAR BUILT', 'TAX CLASS AT PRESENT_Categorized']\n",
        "\n",
        "X = df[features]\n",
        "\n",
        "\n"
      ],
      "metadata": {
        "id": "2YQ2giSMaLZI"
      },
      "execution_count": 26,
      "outputs": []
    },
    {
      "cell_type": "code",
      "source": [
        "#4\n",
        "X = pd.get_dummies(X, drop_first=True)\n",
        "print(X.shape[1])\n"
      ],
      "metadata": {
        "colab": {
          "base_uri": "https://localhost:8080/"
        },
        "id": "0AMfHlcMvLVZ",
        "outputId": "e8cca653-a743-4c19-ff46-70d1c2d55944"
      },
      "execution_count": 27,
      "outputs": [
        {
          "output_type": "stream",
          "name": "stdout",
          "text": [
            "377\n"
          ]
        }
      ]
    },
    {
      "cell_type": "code",
      "source": [
        "#5\n",
        "from sklearn.model_selection import train_test_split\n",
        "\n",
        "y = df['target']\n",
        "\n",
        "X_train, X_test, y_train, y_test = train_test_split(X, y, test_size=0.3, random_state=1000)\n"
      ],
      "metadata": {
        "id": "BTFLU0Qgva0j"
      },
      "execution_count": 28,
      "outputs": []
    },
    {
      "cell_type": "code",
      "source": [
        "#6\n",
        "\n",
        "from sklearn.linear_model import LinearRegression\n",
        "from sklearn.metrics import mean_squared_error\n",
        "\n",
        "# Initialize the model\n",
        "model = LinearRegression()\n",
        "\n",
        "# Train the model\n",
        "model.fit(X_train, y_train)\n",
        "\n",
        "# Make predictions on the test set\n",
        "y_hat_test = model.predict(X_test)\n",
        "\n",
        "# Construct the log_predictions DataFrame\n",
        "log_predictions = pd.DataFrame({'y_test': y_test, 'y_hat_test': y_hat_test, 'resid': y_test - y_hat_test})\n",
        "\n",
        "# Calculate RMSE_test\n",
        "RMSE_test = np.sqrt(mean_squared_error(y_test, y_hat_test))\n",
        "\n",
        "print(f\"RMSE_test: {RMSE_test}\")\n"
      ],
      "metadata": {
        "colab": {
          "base_uri": "https://localhost:8080/"
        },
        "id": "5HJ7gJQrwCZj",
        "outputId": "ce83a377-870a-4d92-ad34-0c4a21f509bf"
      },
      "execution_count": 29,
      "outputs": [
        {
          "output_type": "stream",
          "name": "stdout",
          "text": [
            "RMSE_test: 0.5280240478653218\n"
          ]
        }
      ]
    },
    {
      "cell_type": "markdown",
      "source": [
        "**Improvement**"
      ],
      "metadata": {
        "id": "X10c-Jpu2kyQ"
      }
    },
    {
      "cell_type": "code",
      "source": [
        "#7\n",
        "from sklearn.model_selection import cross_val_score, KFold\n",
        "\n",
        "# Initialize the model\n",
        "model = LinearRegression()\n",
        "\n",
        "# K=5 Cross-Validation\n",
        "kf5 = KFold(n_splits=5, shuffle=True, random_state=1000)\n",
        "cv_scores5 = cross_val_score(model, X, y, cv=kf5, scoring='neg_mean_squared_error')\n",
        "RMSE_CV5 = np.sqrt(-cv_scores5.mean())\n",
        "\n",
        "# K=10 Cross-Validation\n",
        "kf10 = KFold(n_splits=10, shuffle=True, random_state=1000)\n",
        "cv_scores10 = cross_val_score(model, X, y, cv=kf10, scoring='neg_mean_squared_error')\n",
        "RMSE_CV10 = np.sqrt(-cv_scores10.mean())\n",
        "\n",
        "print(f\"RMSE_CV5: {RMSE_CV5}\")\n",
        "print(f\"RMSE_CV10: {RMSE_CV10}\")\n"
      ],
      "metadata": {
        "colab": {
          "base_uri": "https://localhost:8080/"
        },
        "id": "v6oVXOvzwWJ3",
        "outputId": "06ddee72-d1e2-4f53-c2f5-ebd5e36591d8"
      },
      "execution_count": 30,
      "outputs": [
        {
          "output_type": "stream",
          "name": "stdout",
          "text": [
            "RMSE_CV5: 0.5776914910440117\n",
            "RMSE_CV10: 0.580598102703626\n"
          ]
        }
      ]
    },
    {
      "cell_type": "code",
      "source": [
        "print(df.shape[0])\n",
        "\n"
      ],
      "metadata": {
        "colab": {
          "base_uri": "https://localhost:8080/"
        },
        "id": "0SZCHxYXyYzW",
        "outputId": "e6815e22-3b3f-41c2-d91e-82a0a0c0d433"
      },
      "execution_count": 38,
      "outputs": [
        {
          "output_type": "stream",
          "name": "stdout",
          "text": [
            "27586\n"
          ]
        }
      ]
    },
    {
      "cell_type": "code",
      "source": [
        "#8\n",
        "print(f\"RMSE_test: {RMSE_test}\")\n",
        "print(f\"RMSE_CV5: {RMSE_CV5}\")\n",
        "print(f\"RMSE_CV10: {RMSE_CV10}\")\n",
        "\n"
      ],
      "metadata": {
        "colab": {
          "base_uri": "https://localhost:8080/"
        },
        "id": "kbIEa5wfwtce",
        "outputId": "492fed08-ef16-4613-df3a-3c5025364c64"
      },
      "execution_count": 31,
      "outputs": [
        {
          "output_type": "stream",
          "name": "stdout",
          "text": [
            "RMSE_test: 0.5280240478653218\n",
            "RMSE_CV5: 0.5776914910440117\n",
            "RMSE_CV10: 0.580598102703626\n"
          ]
        }
      ]
    },
    {
      "cell_type": "markdown",
      "source": [
        "As we add more folds we see an increase in the RMSE, which indicates the model is performing worse with a higher amount of folds or with smaller training sets. The RMSE_test is split 70-30. Where as the RMSE_CV5 and RMSE_CV5 contain a far smaller training/test set size for the training data. My takeaway is that it is often better to use a train, test split with large datasets that contain a diverse and complete makeup of your observations because using a cross validation technique would narrow the scope of what the model gets to train on."
      ],
      "metadata": {
        "id": "Ja6lZtsaz8IA"
      }
    }
  ]
}